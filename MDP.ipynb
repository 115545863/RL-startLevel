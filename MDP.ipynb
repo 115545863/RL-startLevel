{
 "cells": [
  {
   "cell_type": "markdown",
   "id": "89b36ce6",
   "metadata": {},
   "source": [
    "## 马尔可夫决策过程\n",
    "### 基本概念\n",
    "是强化学习很重要的观念，含义是说当前状态受到前面状态的影响，一般来说，强化学习中的**环境**就是一个马尔可夫决策过程\n",
    "### 马尔可夫过程\n",
    "#### 随机过程\n",
    "指概率论中的\"动态学\"部分，概率论的研究对象是静态的随机现象，但是随机过程研究的是随时间推演的随机现象（比如天气变化等等）\n",
    "#### 马尔可夫性质\n",
    "当且仅当某一时刻的状态取决于上一时刻的状态时，一个随机过程被称为具有马尔可夫性质\n",
    "#### 马尔可夫过程\n",
    "指具有马尔可夫性质的随机过程，也称为马尔可夫链，通常用元组{S,P}组成，S指有限数量的**状态**集合，P是**状态转移矩阵**\n",
    "#### 马尔可夫奖励过程\n",
    "在马尔可夫过程的基础上加入**奖励函数**和**折扣因子**，可以得到马尔可夫奖励过程。一个马尔可夫奖励过程由{S,P,r,γ}组成\n",
    "- S是有限状态的集合\n",
    "- P是状态转移矩阵\n",
    "- r是奖励函数，某个状态的奖励r(s)指转移到该状态时可以获得的奖励期望\n",
    "- γ时折扣因子，取值为[0,1],引入折扣因子是因为远期利益具有一定的不确定性，有时更希望能够尽快获得一些奖励，因此需要对远期利益大一些折扣。γ趋近1则更关注长期积累奖励；趋近于0则更考虑短期奖励\n",
    "#### 马尔可夫回报\n",
    "当前状态的回报依赖于当前的奖励值和后面一直到终止状态的奖励衰减和\n",
    "\n",
    "![image-2.png](picture\\1.png)\n",
    "\n",
    "计算的时候会倒着计算，因为我计算当前步，我会用到后续所有的还没计算出来的部分，但是我倒着计算，就没有不知道的值了，一个一个都给算出来了\n",
    "\n",
    "![image.png](picture\\2.png)\n"
   ]
  },
  {
   "cell_type": "code",
   "execution_count": 25,
   "id": "6319540f",
   "metadata": {},
   "outputs": [],
   "source": [
    "# 初始化\n",
    "import numpy as np\n",
    "\n",
    "# 计算回报\n",
    "p = [\n",
    "    [0.9, 0.1, 0.0, 0.0, 0.0, 0.0],\n",
    "    [0.5, 0.0, 0.5, 0.0, 0.0, 0.0],\n",
    "    [0.0, 0.0, 0.0, 0.6, 0.0, 0.4],\n",
    "    [0.0, 0.0, 0.0, 0.0, 0.3, 0.7],\n",
    "    [0.0, 0.2, 0.3, 0.5, 0.0, 0.0],\n",
    "    [0.0, 0.0, 0.0, 0.0, 0.0, 1.0],\n",
    "]\n",
    "\n",
    "p = np.array(p)\n",
    "\n",
    "rewards = [-1,-2,-2,10,1,0]\n",
    "gamma = 0.5"
   ]
  },
  {
   "cell_type": "code",
   "execution_count": null,
   "id": "3d214ca7",
   "metadata": {},
   "outputs": [
    {
     "name": "stdout",
     "output_type": "stream",
     "text": [
      "0.0\n",
      "0.0\n",
      "-2.0\n",
      "-0.5\n",
      "-3.0\n",
      "-1.5\n",
      "-2.5\n",
      "-2.5\n"
     ]
    }
   ],
   "source": [
    "# 计算回报\n",
    "def mdp(start_index, chain, gamma):\n",
    "    # 记录累计回报\n",
    "    G = 0\n",
    "    G1 = 0\n",
    "    # 记录次数\n",
    "    count = 0\n",
    "    # 记录长度\n",
    "    length = len(chain)-start_index-1\n",
    "    for i in reversed(range(start_index, len(chain))):\n",
    "        # 每次迭代的时候都要把前一个状态乘γ，这样其实得到的结果就是γ的n-1次方，合理的\n",
    "        # 算法一（迭代倒叙公式，但是结果跟2是一样的）\n",
    "        G = gamma*G + rewards[chain[i]-1]\n",
    "        print(G)\n",
    "        # 算法2（严格遵守图片公式）\n",
    "        G1 += gamma**(length-count)*rewards[chain[i]-1]\n",
    "        print(G1)\n",
    "        count+=1\n",
    "    return G\n",
    "\n",
    "# 验证\n",
    "# 一个状态序列,s1-s2-s3-s6\n",
    "chain = [1, 2, 3, 6]\n",
    "start_index = 0\n",
    "G = mdp(start_index, chain, gamma)\n",
    "# print(\"根据本序列计算得到回报为：%s。\" % G)\n"
   ]
  },
  {
   "cell_type": "markdown",
   "id": "c4da6139",
   "metadata": {},
   "source": [
    "#### 价值函数\n",
    "与回报相关，上述内容求的是特定一条路线情况下的值，而价值函数则是该状态所在的所有路线的值的期望（平均值）\n",
    "\n",
    "![image-3.png](picture\\3.png)\n",
    "\n",
    "上式就是贝尔曼方程，当然简单理解其实就是一个求期望嘛。根据这个公式，能够推导出下面的公式：\n",
    "\n",
    "![image-3.png](picture\\4.png)\n",
    "\n",
    "将所有的状态价值表示为列向量，同时将奖励函数也携程列向量，可以得到下面的值\n",
    "\n",
    "![image-3.png](picture\\5.png)\n",
    "\n",
    "为什么左右都是V(s)呢，因为从理解上来讲，这个只是说我求当前状态价值，需要下一个状态的价值分数，但是下一个状态也有可能还是这个状态，就是他从自己跳到自己状态了，所以这样计算是合理的\n",
    "从含义上说，左边就是当前状态的函数，右边是下一个状态，还是这个意思\n",
    "\n",
    "时间复杂度是O(n**3), n是状态数，所以只适用于很小的马尔可夫奖励过程，求解大规模的还是得使用动态规划、蒙特卡洛和时序差分等等"
   ]
  },
  {
   "cell_type": "code",
   "execution_count": 28,
   "id": "54fc65ea",
   "metadata": {},
   "outputs": [
    {
     "name": "stdout",
     "output_type": "stream",
     "text": [
      "MRP中每个状态价值分别为\n",
      " [[-2.01950168]\n",
      " [-2.21451846]\n",
      " [ 1.16142785]\n",
      " [10.53809283]\n",
      " [ 3.58728554]\n",
      " [ 0.        ]]\n"
     ]
    }
   ],
   "source": [
    "# 贝尔曼方程\n",
    "def bellman(p,rewards,gamma,states_num):\n",
    "    # 转换为列向量，1是指定第二维的长度是1（列长是1），-1是指根据长度自动划分第一维大小，确保总数不变（比如有6个数，列数为1，那么行数就得是6）\n",
    "    rewards = np.array(rewards).reshape(-1,1)\n",
    "    # 价值函数\n",
    "    # np.eye(states_num, states_num) 构建单位矩阵\n",
    "    # np.linalg.inv(np.eye(states_num,states_num)-gamma*p) 求逆矩阵\n",
    "    # np.dot(np.linalg.inv(np.eye(states_num,states_num)-gamma*p),rewards) 矩阵相乘\n",
    "    value = np.dot(np.linalg.inv(np.eye(states_num,states_num)-gamma*p),rewards)\n",
    "\n",
    "    return value\n",
    "V = bellman(p,rewards,gamma, len(rewards))\n",
    "print(\"MRP中每个状态价值分别为\\n\", V)"
   ]
  }
 ],
 "metadata": {
  "kernelspec": {
   "display_name": "rl",
   "language": "python",
   "name": "python3"
  },
  "language_info": {
   "codemirror_mode": {
    "name": "ipython",
    "version": 3
   },
   "file_extension": ".py",
   "mimetype": "text/x-python",
   "name": "python",
   "nbconvert_exporter": "python",
   "pygments_lexer": "ipython3",
   "version": "3.11.11"
  }
 },
 "nbformat": 4,
 "nbformat_minor": 5
}
